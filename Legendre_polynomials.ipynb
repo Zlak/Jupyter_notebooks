{
 "cells": [
  {
   "cell_type": "markdown",
   "id": "a13f6f02",
   "metadata": {},
   "source": [
    "# Всякое про отронормированный полином Лежардра"
   ]
  },
  {
   "cell_type": "markdown",
   "id": "fa9ca32f",
   "metadata": {},
   "source": [
    "Ипортируем sympy и подключаем математический шрифт для нормально вывода результатов "
   ]
  },
  {
   "cell_type": "code",
   "execution_count": 1,
   "id": "0e09b01d",
   "metadata": {},
   "outputs": [],
   "source": [
    "import sympy\n",
    "sympy.init_printing()"
   ]
  },
  {
   "cell_type": "markdown",
   "id": "f6597cbc",
   "metadata": {},
   "source": [
    "Задаём переменную для символьных вычислений"
   ]
  },
  {
   "cell_type": "code",
   "execution_count": 2,
   "id": "724d8f6c",
   "metadata": {},
   "outputs": [],
   "source": [
    "x = sympy.Symbol('x')"
   ]
  },
  {
   "cell_type": "markdown",
   "id": "6e778f3e",
   "metadata": {},
   "source": [
    "задаём функцию"
   ]
  },
  {
   "cell_type": "code",
   "execution_count": 3,
   "id": "5ea3fb73",
   "metadata": {},
   "outputs": [],
   "source": [
    "f = (x**3-3*x+1)"
   ]
  },
  {
   "cell_type": "code",
   "execution_count": 4,
   "id": "f70c2906",
   "metadata": {},
   "outputs": [
    {
     "data": {
      "image/png": "[encoded data removed]",
      "text/latex": [
       "$\\displaystyle x^{3} - 3 x + 1$"
      ],
      "text/plain": [
       " 3          \n",
       "x  - 3⋅x + 1"
      ]
     },
     "execution_count": 4,
     "metadata": {},
     "output_type": "execute_result"
    }
   ],
   "source": [
    "f"
   ]
  },
  {
   "cell_type": "markdown",
   "id": "6cc1208a",
   "metadata": {},
   "source": [
    "задаём матрицу полиномов\n",
    "`sympy.Rational` - это дробь, чтобы не вычислялось приближенно\n",
    "`sympy.sqrt` - корень, тоже чтобы не вычислялось приближенно"
   ]
  },
  {
   "cell_type": "code",
   "execution_count": 5,
   "id": "e51424d7",
   "metadata": {},
   "outputs": [],
   "source": [
    "P=sympy.Matrix([0,0,0,0])\n",
    "P[0]=1/sympy.sqrt(2)\n",
    "P[1]=x*sympy.sqrt(sympy.Rational(3/2))\n",
    "P[2]=sympy.sqrt(sympy.Rational(45,8))*(x**2-sympy.Rational(1,3))\n",
    "P[3]=(5*x**3-3*x)/2*sympy.sqrt(sympy.Rational(7/2))"
   ]
  },
  {
   "cell_type": "code",
   "execution_count": 6,
   "id": "a6a99a53",
   "metadata": {},
   "outputs": [
    {
     "data": {
      "image/png": "[encoded data removed]",
      "text/latex": [
       "$\\displaystyle \\left[\\begin{matrix}\\frac{\\sqrt{2}}{2}\\\\\\frac{\\sqrt{6} x}{2}\\\\\\frac{3 \\sqrt{10} \\left(x^{2} - \\frac{1}{3}\\right)}{4}\\\\\\frac{\\sqrt{14} \\left(\\frac{5 x^{3}}{2} - \\frac{3 x}{2}\\right)}{2}\\end{matrix}\\right]$"
      ],
      "text/plain": [
       "⎡       √2       ⎤\n",
       "⎢       ──       ⎥\n",
       "⎢       2        ⎥\n",
       "⎢                ⎥\n",
       "⎢      √6⋅x      ⎥\n",
       "⎢      ────      ⎥\n",
       "⎢       2        ⎥\n",
       "⎢                ⎥\n",
       "⎢       ⎛ 2   1⎞ ⎥\n",
       "⎢ 3⋅√10⋅⎜x  - ─⎟ ⎥\n",
       "⎢       ⎝     3⎠ ⎥\n",
       "⎢ ────────────── ⎥\n",
       "⎢       4        ⎥\n",
       "⎢                ⎥\n",
       "⎢    ⎛   3      ⎞⎥\n",
       "⎢    ⎜5⋅x    3⋅x⎟⎥\n",
       "⎢√14⋅⎜──── - ───⎟⎥\n",
       "⎢    ⎝ 2      2 ⎠⎥\n",
       "⎢────────────────⎥\n",
       "⎣       2        ⎦"
      ]
     },
     "execution_count": 6,
     "metadata": {},
     "output_type": "execute_result"
    }
   ],
   "source": [
    "P"
   ]
  },
  {
   "cell_type": "markdown",
   "id": "3c947230",
   "metadata": {},
   "source": [
    "находим коэффициенты расложения функции в обобщённый ряд Фурье\n"
   ]
  },
  {
   "cell_type": "code",
   "execution_count": 7,
   "id": "9a616f85",
   "metadata": {},
   "outputs": [],
   "source": [
    "a=sympy.Matrix([0,0,0,0])"
   ]
  },
  {
   "cell_type": "code",
   "execution_count": 8,
   "id": "d3026fd3",
   "metadata": {},
   "outputs": [],
   "source": [
    "for i in range(4):\n",
    "    a[i]=(f*P[i]).integrate((x,-1,1))"
   ]
  },
  {
   "cell_type": "code",
   "execution_count": 9,
   "id": "efb5aa17",
   "metadata": {},
   "outputs": [
    {
     "data": {
      "image/png": "[encoded data removed]",
      "text/latex": [
       "$\\displaystyle \\left[\\begin{matrix}\\sqrt{2}\\\\- \\frac{4 \\sqrt{6}}{5}\\\\0\\\\\\frac{2 \\sqrt{14}}{35}\\end{matrix}\\right]$"
      ],
      "text/plain": [
       "⎡  √2  ⎤\n",
       "⎢      ⎥\n",
       "⎢-4⋅√6 ⎥\n",
       "⎢──────⎥\n",
       "⎢  5   ⎥\n",
       "⎢      ⎥\n",
       "⎢  0   ⎥\n",
       "⎢      ⎥\n",
       "⎢2⋅√14 ⎥\n",
       "⎢───── ⎥\n",
       "⎣  35  ⎦"
      ]
     },
     "execution_count": 9,
     "metadata": {},
     "output_type": "execute_result"
    }
   ],
   "source": [
    "a"
   ]
  },
  {
   "cell_type": "markdown",
   "id": "f0ff1589",
   "metadata": {},
   "source": [
    "проверяем результат вычисления коэффициентов\n",
    "$\\sum_{n=0}^3 a_n P_n$\n"
   ]
  },
  {
   "cell_type": "code",
   "execution_count": 10,
   "id": "69a46007",
   "metadata": {},
   "outputs": [],
   "source": [
    "test_results = 0\n",
    "for i in range(4):\n",
    "    test_results += a[i]*P[i]"
   ]
  },
  {
   "cell_type": "code",
   "execution_count": 11,
   "id": "e9b71d9b",
   "metadata": {},
   "outputs": [
    {
     "data": {
      "image/png": "[encoded data removed]",
      "text/latex": [
       "$\\displaystyle x^{3} - 3 x + 1$"
      ],
      "text/plain": [
       " 3          \n",
       "x  - 3⋅x + 1"
      ]
     },
     "execution_count": 11,
     "metadata": {},
     "output_type": "execute_result"
    }
   ],
   "source": [
    "test_results"
   ]
  },
  {
   "cell_type": "code",
   "execution_count": null,
   "id": "1341e790",
   "metadata": {},
   "outputs": [],
   "source": []
  }
 ],
 "metadata": {
  "kernelspec": {
   "display_name": "Python 3",
   "language": "python",
   "name": "python3"
  },
  "language_info": {
   "codemirror_mode": {
    "name": "ipython",
    "version": 3
   },
   "file_extension": ".py",
   "mimetype": "text/x-python",
   "name": "python",
   "nbconvert_exporter": "python",
   "pygments_lexer": "ipython3",
   "version": "3.8.8"
  }
 },
 "nbformat": 4,
 "nbformat_minor": 5
}
